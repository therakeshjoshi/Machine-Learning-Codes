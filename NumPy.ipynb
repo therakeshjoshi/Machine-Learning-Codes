{
  "nbformat": 4,
  "nbformat_minor": 0,
  "metadata": {
    "colab": {
      "provenance": []
    },
    "kernelspec": {
      "name": "python3",
      "display_name": "Python 3"
    },
    "language_info": {
      "name": "python"
    }
  },
  "cells": [
    {
      "cell_type": "markdown",
      "source": [
        "## Introduction\n",
        "\n",
        "\n",
        "*   NumPy is the fundamental package for scientific computing in Python.\n",
        "*   At the core of the NumPy package, is the **ndarray** object, which is a **n-dimensional** array of **homogeneous data types**\n",
        "* Properties of Numpy arrays:\n",
        "   1. They have fixed size at creation\n",
        "   2. The elements in a NumPy array are all required to be of the same data type <font color=\"red\">(There is an exception to this though!!)</font>\n",
        "\n",
        "\n",
        "* There are two important features of NumPy:\n",
        "    - Vectorization: absence of explicit looping, indexing etc. in the code\n",
        "    - Broadcasting: let's us perform operations on arrays of different shapes\n",
        "\n",
        "* By default all the operations of NumPy arrays are **element-by-element**\n",
        "\n",
        "\n",
        "References:\n",
        "\n",
        "https://numpy.org/doc/2.0/user/index.html\n",
        "\n",
        "\n",
        "https://sebastianraschka.com/blog/2020/numpy-intro.html#n-dimensional-arrays"
      ],
      "metadata": {
        "id": "VsssXNfKfOj4"
      }
    },
    {
      "cell_type": "markdown",
      "source": [
        "## Table of Contents\n",
        "\n",
        "1. Array Creation Methods\n",
        "2. Array Indexing\n",
        "3. Broadcasting\n",
        "4. Array Math and Universal functions\n",
        "5. Random Number Generators\n",
        "6. Linear Algebra"
      ],
      "metadata": {
        "id": "HOU3xo5mZevS"
      }
    },
    {
      "cell_type": "code",
      "execution_count": null,
      "metadata": {
        "id": "F12nTfMFZJdt"
      },
      "outputs": [],
      "source": [
        "import numpy as np"
      ]
    },
    {
      "cell_type": "code",
      "source": [
        "# Why is it important to know that? Answer it yourself with the reason.\n",
        "print(np.__version__)"
      ],
      "metadata": {
        "colab": {
          "base_uri": "https://localhost:8080/"
        },
        "id": "3aCWDGrvZmHR",
        "outputId": "6a7f1eea-e5d1-448d-e0bf-4a57db7f7de3"
      },
      "execution_count": null,
      "outputs": [
        {
          "output_type": "stream",
          "name": "stdout",
          "text": [
            "2.0.2\n"
          ]
        }
      ]
    },
    {
      "cell_type": "code",
      "source": [
        "dir(np)\n",
        "# help(np.diag)"
      ],
      "metadata": {
        "id": "8l35q9RBhB-g"
      },
      "execution_count": null,
      "outputs": []
    },
    {
      "cell_type": "markdown",
      "source": [
        "## 1. Array Creation Methods"
      ],
      "metadata": {
        "id": "ZJo94Pc_ZYhg"
      }
    },
    {
      "cell_type": "markdown",
      "source": [
        "### a) Conversion from other python structures (i.e. lists and tuples)"
      ],
      "metadata": {
        "id": "8h1-9bubfDWa"
      }
    },
    {
      "cell_type": "code",
      "source": [
        "a = [1, 2, 3] # a list will create a 1D array\n",
        "b = (4, 5, 6) # a tuple will create a 1D array\n",
        "\n",
        "# a list of list will create a 2D array\n",
        "a2 = [[1, 2, 3], [4, 5, 6]]\n",
        "\n",
        "arr = np.array(a)\n",
        "arr2 = np.array(b, dtype=float)\n",
        "\n",
        "arr_2d = np.array(a2)\n",
        "\n",
        "# Further nested structures will create higher dimensional arrays"
      ],
      "metadata": {
        "id": "1HjmVwZuZVEB"
      },
      "execution_count": null,
      "outputs": []
    },
    {
      "cell_type": "code",
      "source": [
        "print(a)\n",
        "print(type(a))\n",
        "print(arr2)\n",
        "print(type(arr2[0]))"
      ],
      "metadata": {
        "colab": {
          "base_uri": "https://localhost:8080/"
        },
        "id": "cOPFaZckgCOa",
        "outputId": "fdad2e78-a886-4e9d-a7f3-b80836c67f75"
      },
      "execution_count": null,
      "outputs": [
        {
          "output_type": "stream",
          "name": "stdout",
          "text": [
            "[1, 2, 3]\n",
            "<class 'list'>\n",
            "[4. 5. 6.]\n",
            "<class 'numpy.float64'>\n"
          ]
        }
      ]
    },
    {
      "cell_type": "code",
      "source": [
        "print(arr.dtype)"
      ],
      "metadata": {
        "colab": {
          "base_uri": "https://localhost:8080/"
        },
        "id": "j5-2ZcSOUGpl",
        "outputId": "5a376258-1134-4892-d101-73bc0de25bd4"
      },
      "execution_count": null,
      "outputs": [
        {
          "output_type": "stream",
          "name": "stdout",
          "text": [
            "int64\n"
          ]
        }
      ]
    },
    {
      "cell_type": "code",
      "source": [
        "# If we want to construct NumPy arrays of different types, we can pass an argument to the dtype parameter of the array function,\n",
        "#for example np.int32, to create 32-bit arrays.\n",
        "#For a full list of supported data types, please refer to the official NumPy documentation.\n",
        "\n"
      ],
      "metadata": {
        "id": "uk9UkY1yaAkh"
      },
      "execution_count": null,
      "outputs": []
    },
    {
      "cell_type": "code",
      "source": [
        "t3 = np.array((127.466666666, 129, 126), dtype='int16')"
      ],
      "metadata": {
        "id": "EHGmWfZskdhv"
      },
      "execution_count": null,
      "outputs": []
    },
    {
      "cell_type": "code",
      "source": [
        "print(t3)"
      ],
      "metadata": {
        "colab": {
          "base_uri": "https://localhost:8080/"
        },
        "id": "M3hDfYBWCBsd",
        "outputId": "be03e9e6-6805-4005-8e34-e75c409f09dd"
      },
      "execution_count": null,
      "outputs": [
        {
          "output_type": "stream",
          "name": "stdout",
          "text": [
            "[127 129 126]\n"
          ]
        }
      ]
    },
    {
      "cell_type": "code",
      "source": [
        "#Once an array has been constructed, we can downcast or recast its type via the astype method as shown in the following examples:\n",
        "\n",
        "# t3 = t3.astype('int')\n",
        "t3 = np.astype(t3, 'int8')"
      ],
      "metadata": {
        "id": "Qg72zokwaRzN"
      },
      "execution_count": null,
      "outputs": []
    },
    {
      "cell_type": "code",
      "source": [
        "# print(t3[0])\n",
        "# print(type(t3[0]))\n",
        "print(t3)\n",
        "# print(t4)"
      ],
      "metadata": {
        "colab": {
          "base_uri": "https://localhost:8080/"
        },
        "id": "GZ7QD0HSkmco",
        "outputId": "5e3ba6a8-feec-44ba-9bae-b338a81a609c"
      },
      "execution_count": null,
      "outputs": [
        {
          "output_type": "stream",
          "name": "stdout",
          "text": [
            "[ 127 -127  126]\n"
          ]
        }
      ]
    },
    {
      "cell_type": "markdown",
      "source": [
        "### Array attributes\n",
        "NumPy arrays have several key attributes that provide information about their properties:\n",
        "\n",
        "* ndim: The number of dimensions of the array (also known as its axes).\n",
        "* shape: A tuple representing the size of the array along each dimension.\n",
        "* size: The total number of elements in the array.\n",
        "* dtype: The data type of the array's elements."
      ],
      "metadata": {
        "id": "zladhetPVfVF"
      }
    },
    {
      "cell_type": "code",
      "source": [
        "# Create a 2D array\n",
        "a = np.array([[1, 2, 3], [4, 5, 6]])\n",
        "\n",
        "# # Number of dimensions\n",
        "# print(a.ndim)  # Output: 2\n",
        "\n",
        "# # Shape of the array (rows, columns)\n",
        "# print(a.shape)  # Output: (2, 3)\n",
        "\n",
        "# # Total number of elements\n",
        "# print(a.size)  # Output: 6\n",
        "\n",
        "print(len(a)) # Why 2?\n",
        "\n",
        "\n",
        "# A number of oft used constants are defined in the numpy package\n",
        "# These include numpy.inf, numpy.e, numpy.pi\n",
        "\n",
        "print(np.inf, np.e, np.pi)\n",
        "\n",
        "# numpy constants are documented at: https://numpy.org/doc/stable/reference/constants.html\n"
      ],
      "metadata": {
        "colab": {
          "base_uri": "https://localhost:8080/"
        },
        "id": "kyryKgePVe5n",
        "outputId": "8993e1f4-f091-46a7-d2e5-3452d26d2859"
      },
      "execution_count": null,
      "outputs": [
        {
          "output_type": "stream",
          "name": "stdout",
          "text": [
            "2\n",
            "inf 2.718281828459045 3.141592653589793\n"
          ]
        }
      ]
    },
    {
      "cell_type": "markdown",
      "source": [
        "#### Extra\n",
        "You can also create arrays using dictionary."
      ],
      "metadata": {
        "id": "0aZ3H9oygr6d"
      }
    },
    {
      "cell_type": "markdown",
      "source": [
        "### b) Using Numpy Array Creation Functions"
      ],
      "metadata": {
        "id": "LYJEK6F2f-NU"
      }
    },
    {
      "cell_type": "code",
      "source": [
        "# numpy.arange creates arrays with regularly incrementing values.\n",
        "\n",
        "# arr = np.arange(0, 10, 1) # start and stop need to be int or real\n",
        "# print(arr)\n",
        "# print(type(arr))\n",
        "# print(arr.shape)\n",
        "\n",
        "# When to use linspace: 1) if you want the endpoint to be included in the result 2)if you are using a non-integer step size.\n",
        "\n",
        "# arr2 = np.linspace([0, 1, 2], 10, num=4, endpoint=True, retstep=True) # start and stop can be int, real, complex or array like\n",
        "# # arr2 = np.linspace([0, 1, 2], 10, num=4, endpoint=False, retstep=False) # returns a tuple if true\n",
        "print(arr2)\n",
        "print(type(arr2))\n",
        "print(len(arr2))\n",
        "# print(arr2.shape)\n",
        "\n",
        "# axis is relevant when start and step are array like\n",
        "# arr2 = np.linspace([0, 1, 2], [10, 11, 12], num=10, endpoint=True, retstep=False, axis=1)\n",
        "# print(arr2)\n",
        "# print(arr2.shape)"
      ],
      "metadata": {
        "id": "HAgmQLF_g16c",
        "colab": {
          "base_uri": "https://localhost:8080/",
          "height": 324
        },
        "outputId": "6e83ff4a-7105-4d76-b9b7-7d84f68f69e3"
      },
      "execution_count": null,
      "outputs": [
        {
          "output_type": "stream",
          "name": "stdout",
          "text": [
            "(array([[ 0.        ,  1.        ,  2.        ],\n",
            "       [ 3.33333333,  4.        ,  4.66666667],\n",
            "       [ 6.66666667,  7.        ,  7.33333333],\n",
            "       [10.        , 10.        , 10.        ]]), array([3.33333333, 3.        , 2.66666667]))\n",
            "<class 'tuple'>\n",
            "2\n"
          ]
        },
        {
          "output_type": "error",
          "ename": "AttributeError",
          "evalue": "'tuple' object has no attribute 'shape'",
          "traceback": [
            "\u001b[0;31m---------------------------------------------------------------------------\u001b[0m",
            "\u001b[0;31mAttributeError\u001b[0m                            Traceback (most recent call last)",
            "\u001b[0;32m/tmp/ipython-input-3946192832.py\u001b[0m in \u001b[0;36m<cell line: 0>\u001b[0;34m()\u001b[0m\n\u001b[1;32m     13\u001b[0m \u001b[0mprint\u001b[0m\u001b[0;34m(\u001b[0m\u001b[0mtype\u001b[0m\u001b[0;34m(\u001b[0m\u001b[0marr2\u001b[0m\u001b[0;34m)\u001b[0m\u001b[0;34m)\u001b[0m\u001b[0;34m\u001b[0m\u001b[0;34m\u001b[0m\u001b[0m\n\u001b[1;32m     14\u001b[0m \u001b[0mprint\u001b[0m\u001b[0;34m(\u001b[0m\u001b[0mlen\u001b[0m\u001b[0;34m(\u001b[0m\u001b[0marr2\u001b[0m\u001b[0;34m)\u001b[0m\u001b[0;34m)\u001b[0m\u001b[0;34m\u001b[0m\u001b[0;34m\u001b[0m\u001b[0m\n\u001b[0;32m---> 15\u001b[0;31m \u001b[0mprint\u001b[0m\u001b[0;34m(\u001b[0m\u001b[0marr2\u001b[0m\u001b[0;34m.\u001b[0m\u001b[0mshape\u001b[0m\u001b[0;34m)\u001b[0m\u001b[0;34m\u001b[0m\u001b[0;34m\u001b[0m\u001b[0m\n\u001b[0m\u001b[1;32m     16\u001b[0m \u001b[0;34m\u001b[0m\u001b[0m\n\u001b[1;32m     17\u001b[0m \u001b[0;31m# axis is relevant when start and step are array like\u001b[0m\u001b[0;34m\u001b[0m\u001b[0;34m\u001b[0m\u001b[0m\n",
            "\u001b[0;31mAttributeError\u001b[0m: 'tuple' object has no attribute 'shape'"
          ]
        }
      ]
    },
    {
      "cell_type": "code",
      "source": [
        "# Create an array filled with zeros\n",
        "zeros_array = np.zeros((2,5,3))\n",
        "print(f\"Zeros Array: {zeros_array}\")\n",
        "\n",
        "# Create an array filled with ones\n",
        "ones_array = np.ones(5, dtype=np.int32)\n",
        "print(f\"Ones Array: {ones_array}\")  # Output: Ones Array: [1 1 1 1 1]\n",
        "\n",
        "# Create an empty array\n",
        "empty_array = np.empty((2,2))\n",
        "print(f\"Empty Array: {empty_array}\")  # Output: Empty Array: [ ... values may vary ...]\n",
        "\n",
        "identity_array = np.eye(3, 4, k=0, order='C')\n",
        "print(f\"Identity Array: {identity_array}\")\n",
        "\n",
        "# Return an array of zeros with the same shape and type as a given array.\n",
        "# ex. np.zeros_like, np.ones_like, np.full_like\n",
        "like_array = np.zeros_like(ones_array)\n",
        "print(f\"like_array: \", like_array)"
      ],
      "metadata": {
        "colab": {
          "base_uri": "https://localhost:8080/"
        },
        "id": "Y39F822W_fP4",
        "outputId": "47e66778-ac6c-401f-c869-3d4b33256b9e"
      },
      "execution_count": null,
      "outputs": [
        {
          "output_type": "stream",
          "name": "stdout",
          "text": [
            "Zeros Array: [[[0. 0. 0.]\n",
            "  [0. 0. 0.]\n",
            "  [0. 0. 0.]\n",
            "  [0. 0. 0.]\n",
            "  [0. 0. 0.]]\n",
            "\n",
            " [[0. 0. 0.]\n",
            "  [0. 0. 0.]\n",
            "  [0. 0. 0.]\n",
            "  [0. 0. 0.]\n",
            "  [0. 0. 0.]]]\n",
            "Ones Array: [1 1 1 1 1]\n",
            "Empty Array: [[0. 1.]\n",
            " [2. 3.]]\n",
            "Identity Array: [[1. 0. 0. 0.]\n",
            " [0. 1. 0. 0.]\n",
            " [0. 0. 1. 0.]]\n",
            "like_array:  [0 0 0 0 0]\n"
          ]
        }
      ]
    },
    {
      "cell_type": "markdown",
      "source": [
        "## Reshaping Arrays"
      ],
      "metadata": {
        "id": "YfU0Swax06Y8"
      }
    },
    {
      "cell_type": "code",
      "source": [
        "a = np.arange(1, 11)\n",
        "b = a.reshape(2, 5) # Rule: Total no. of elements must remain same\n",
        "print(b[0][1])\n",
        "print(b[0,1])\n",
        "\n",
        "# print(a)\n",
        "# print(np.shares_memory(a, b))  # True (view, not copy)\n",
        "f = a.copy()\n",
        "print(f)\n",
        "\n",
        "# c = a.reshape(-1, 2) # automatic dimension inference: only 1 dimension can be -1\n",
        "\n",
        "d = np.arange(6)\n",
        "print(np.reshape(d, (2, 3), order='C')) # read/write in row first manner\n",
        "# # [[0 1 2]\n",
        "# #  [3 4 5]]\n",
        "\n",
        "print(np.reshape(d, (2, 3), order='F')) # read/write in column first manner\n",
        "# [[0 2 4]\n",
        "#  [1 3 5]]\n"
      ],
      "metadata": {
        "colab": {
          "base_uri": "https://localhost:8080/"
        },
        "id": "kZ1VdEIU0pk9",
        "outputId": "cddfe269-cf1c-42c6-e66a-b86e5ff19459"
      },
      "execution_count": null,
      "outputs": [
        {
          "output_type": "stream",
          "name": "stdout",
          "text": [
            "2\n",
            "2\n",
            "[ 1  2  3  4  5  6  7  8  9 10]\n",
            "[[0 1 2]\n",
            " [3 4 5]]\n",
            "[[0 2 4]\n",
            " [1 3 5]]\n"
          ]
        }
      ]
    },
    {
      "cell_type": "code",
      "source": [
        "a = np.arange(60)\n",
        "b = a.reshape(3, 4, 5)\n",
        "\n",
        "print(b.shape)   # (3, 4, 5)\n",
        "print(b[1, :, :])"
      ],
      "metadata": {
        "colab": {
          "base_uri": "https://localhost:8080/"
        },
        "id": "ZWtdl85nJKe_",
        "outputId": "86bce55a-4ebe-44d1-de9e-626d55e03b44"
      },
      "execution_count": null,
      "outputs": [
        {
          "output_type": "stream",
          "name": "stdout",
          "text": [
            "(3, 4, 5)\n",
            "[[20 21 22 23 24]\n",
            " [25 26 27 28 29]\n",
            " [30 31 32 33 34]\n",
            " [35 36 37 38 39]]\n"
          ]
        }
      ]
    },
    {
      "cell_type": "markdown",
      "source": [
        "## 2. Array Indexing"
      ],
      "metadata": {
        "id": "T3HQeQ3FsYv2"
      }
    },
    {
      "cell_type": "code",
      "source": [
        "a = np.array([1, 2, 3])\n",
        "b = np.array([[1, 2, 3], [4, 5, 6]])"
      ],
      "metadata": {
        "id": "1THvnukesgJZ"
      },
      "execution_count": null,
      "outputs": []
    },
    {
      "cell_type": "code",
      "source": [
        "print(a[0])"
      ],
      "metadata": {
        "colab": {
          "base_uri": "https://localhost:8080/"
        },
        "id": "YkShUrI27yvR",
        "outputId": "f9d6ec5e-ce13-43ff-e735-66af8f3a224d"
      },
      "execution_count": null,
      "outputs": [
        {
          "output_type": "stream",
          "name": "stdout",
          "text": [
            "1\n"
          ]
        }
      ]
    },
    {
      "cell_type": "code",
      "source": [
        "print(b[0])\n",
        "# print(b[0][1])\n",
        "# print(b[0,1])"
      ],
      "metadata": {
        "id": "8YTYjFS_XdA9"
      },
      "execution_count": null,
      "outputs": []
    },
    {
      "cell_type": "code",
      "source": [
        "print(b[0, -1])"
      ],
      "metadata": {
        "colab": {
          "base_uri": "https://localhost:8080/"
        },
        "id": "ER_DbcCv8ILi",
        "outputId": "c6c5fccb-66be-4fc0-a701-6da4371892bc"
      },
      "execution_count": null,
      "outputs": [
        {
          "output_type": "stream",
          "name": "stdout",
          "text": [
            "3\n"
          ]
        }
      ]
    },
    {
      "cell_type": "code",
      "source": [
        "arr = np.arange(0, 11)\n",
        "print(arr)"
      ],
      "metadata": {
        "id": "0PW6yij28LGl"
      },
      "execution_count": null,
      "outputs": []
    },
    {
      "cell_type": "code",
      "source": [
        "arr[0:5:2]"
      ],
      "metadata": {
        "colab": {
          "base_uri": "https://localhost:8080/"
        },
        "id": "BVT-5HIZ8dnF",
        "outputId": "7a6ae407-4a5d-4124-a0f9-df44a6366603"
      },
      "execution_count": null,
      "outputs": [
        {
          "output_type": "execute_result",
          "data": {
            "text/plain": [
              "array([0, 2, 4])"
            ]
          },
          "metadata": {},
          "execution_count": 225
        }
      ]
    },
    {
      "cell_type": "code",
      "source": [
        "print(b[:,-2])"
      ],
      "metadata": {
        "colab": {
          "base_uri": "https://localhost:8080/"
        },
        "id": "SKBnCZ9A8hc7",
        "outputId": "430f1ead-6917-4dc5-a2db-d772936fc56c"
      },
      "execution_count": null,
      "outputs": [
        {
          "output_type": "stream",
          "name": "stdout",
          "text": [
            "[2 5]\n"
          ]
        }
      ]
    },
    {
      "cell_type": "code",
      "source": [
        "# Basic Indexing Examples\n",
        "arr = np.array([1, 2, 3, 4, 5])\n",
        "print(\"Original array:\", arr)\n",
        "print(\"First element:\", arr[0])\n",
        "print(\"Last element:\", arr[-1])\n",
        "\n",
        "# Slicing\n",
        "print(\"Elements from index 1 to 3:\", arr[1:4])\n",
        "print(\"Elements from the beginning to index 2:\", arr[:3])\n",
        "print(\"Elements from index 3 to the end:\", arr[3:])\n",
        "print(\"Every other element:\", arr[::2])\n",
        "\n",
        "# Indexing in 2D arrays\n",
        "arr_2d = np.array([[1, 2, 3], [4, 5, 6], [7, 8, 9]])\n",
        "print(\"\\nOriginal 2D array:\\n\", arr_2d)\n",
        "print(\"Element at row 0, column 1:\", arr_2d[0, 1])\n",
        "print(\"First row:\", arr_2d[0, :])\n",
        "print(\"Second column:\", arr_2d[:, 1])\n",
        "print(\"Slice of the 2D array:\\n\", arr_2d[:2, 1:])"
      ],
      "metadata": {
        "colab": {
          "base_uri": "https://localhost:8080/"
        },
        "id": "ud0Fu0Xs0nLn",
        "outputId": "be17da91-88e2-4ac9-87a5-1338df263c44"
      },
      "execution_count": null,
      "outputs": [
        {
          "output_type": "stream",
          "name": "stdout",
          "text": [
            "Original array: [1 2 3 4 5]\n",
            "First element: 1\n",
            "Last element: 5\n",
            "Elements from index 1 to 3: [2 3 4]\n",
            "Elements from the beginning to index 2: [1 2 3]\n",
            "Elements from index 3 to the end: [4 5]\n",
            "Every other element: [1 3 5]\n",
            "\n",
            "Original 2D array:\n",
            " [[1 2 3]\n",
            " [4 5 6]\n",
            " [7 8 9]]\n",
            "Element at row 0, column 1: 2\n",
            "First row: [1 2 3]\n",
            "Second column: [2 5 8]\n",
            "Slice of the 2D array:\n",
            " [[2 3]\n",
            " [5 6]]\n"
          ]
        }
      ]
    },
    {
      "cell_type": "code",
      "source": [
        "# Advanced indexing\n",
        "# Advanced indexing happens when the “selection object” you use to index an array is not a simple scalar or slice.\n",
        "# There are two types of advanced indexing integer and boolean\n",
        "\n",
        "# 1. A non-tuple sequence\n",
        "x = np.arange(5)\n",
        "print(x)? # advanced boolean indexing\n",
        "# print(new.shape)\n",
        "\n",
        "# 2. An ndarray of integers or booleans\n",
        "# idx = np.array([0, 2, 4])\n",
        "# x[idx]  # advanced integer indexing\n",
        "# mask = np.array([True, False, True, False, True])\n",
        "# x[mask] # advanced boolean indexing\n",
        "\n"
      ],
      "metadata": {
        "colab": {
          "base_uri": "https://localhost:8080/",
          "height": 109
        },
        "id": "_DpH1xTvoo1K",
        "outputId": "cf476810-2847-48a2-8f7a-1f9f53554a3d"
      },
      "execution_count": null,
      "outputs": [
        {
          "output_type": "error",
          "ename": "SyntaxError",
          "evalue": "invalid syntax (ipython-input-2295104968.py, line 7)",
          "traceback": [
            "\u001b[0;36m  File \u001b[0;32m\"/tmp/ipython-input-2295104968.py\"\u001b[0;36m, line \u001b[0;32m7\u001b[0m\n\u001b[0;31m    print(x)? # advanced boolean indexing\u001b[0m\n\u001b[0m            ^\u001b[0m\n\u001b[0;31mSyntaxError\u001b[0m\u001b[0;31m:\u001b[0m invalid syntax\n"
          ]
        }
      ]
    },
    {
      "cell_type": "code",
      "source": [
        "print(x)"
      ],
      "metadata": {
        "colab": {
          "base_uri": "https://localhost:8080/"
        },
        "id": "j19M35TdF22B",
        "outputId": "c6b264c2-14bb-499f-b62b-cce2c0e79472"
      },
      "execution_count": null,
      "outputs": [
        {
          "output_type": "stream",
          "name": "stdout",
          "text": [
            "[0 1 2 3 4]\n"
          ]
        }
      ]
    },
    {
      "cell_type": "code",
      "source": [
        "mask = x > 2\n",
        "print(mask)\n",
        "x[mask]"
      ],
      "metadata": {
        "colab": {
          "base_uri": "https://localhost:8080/"
        },
        "id": "9bJYi1a_qAwT",
        "outputId": "13e6664d-b373-4dc0-a31c-f4e6f0e8629b"
      },
      "execution_count": null,
      "outputs": [
        {
          "output_type": "stream",
          "name": "stdout",
          "text": [
            "[False False False  True  True]\n"
          ]
        },
        {
          "output_type": "execute_result",
          "data": {
            "text/plain": [
              "array([3, 4])"
            ]
          },
          "metadata": {},
          "execution_count": 233
        }
      ]
    },
    {
      "cell_type": "markdown",
      "source": [
        "## 3. Broadcasting"
      ],
      "metadata": {
        "id": "g1y6Dc6fKqdl"
      }
    },
    {
      "cell_type": "code",
      "source": [
        "a = np.array([1.0, 2.0, 3.0])\n",
        "b = np.array([2, 2, 2])\n",
        "print(a*b)"
      ],
      "metadata": {
        "colab": {
          "base_uri": "https://localhost:8080/"
        },
        "id": "jtwNu1b89QBH",
        "outputId": "4c5bb681-a0b7-49c4-ab15-27a11ddf337b"
      },
      "execution_count": null,
      "outputs": [
        {
          "output_type": "stream",
          "name": "stdout",
          "text": [
            "[2. 4. 6.]\n"
          ]
        }
      ]
    },
    {
      "cell_type": "code",
      "source": [
        "x = 2 # 1. memory and compute efficiency 2. When shape don't match\n",
        "print(a*x)"
      ],
      "metadata": {
        "colab": {
          "base_uri": "https://localhost:8080/"
        },
        "id": "xwjM4_oRLQWn",
        "outputId": "8fbe03ff-42f2-4f98-aaf5-28cc7e1e5a46"
      },
      "execution_count": null,
      "outputs": [
        {
          "output_type": "stream",
          "name": "stdout",
          "text": [
            "[2. 4. 6.]\n"
          ]
        }
      ]
    },
    {
      "cell_type": "code",
      "source": [
        "# General rules of broadcasting\n",
        "# Two dimensions are compatible when they are  equal 2. one of them is 1\n"
      ],
      "metadata": {
        "id": "6tCQw9v4LYXX"
      },
      "execution_count": null,
      "outputs": []
    },
    {
      "cell_type": "markdown",
      "source": [
        "![broadcasting-2.png](data:image/png;base64,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)"
      ],
      "metadata": {
        "id": "offauMg6NXKV"
      }
    },
    {
      "cell_type": "code",
      "source": [
        "arr1 = np.array([[4, 5, 6], [7, 8, 9]])\n",
        "arr2 = np.array([1, 2, 3])"
      ],
      "metadata": {
        "id": "GCG_7tooL7ae"
      },
      "execution_count": null,
      "outputs": []
    },
    {
      "cell_type": "code",
      "source": [
        "print(arr1.shape, arr2.shape)"
      ],
      "metadata": {
        "colab": {
          "base_uri": "https://localhost:8080/"
        },
        "id": "UOvu5l31NtwH",
        "outputId": "2ef9623e-1cb2-435f-91b7-923d8e9644bc"
      },
      "execution_count": null,
      "outputs": [
        {
          "output_type": "stream",
          "name": "stdout",
          "text": [
            "(2, 3) (3,)\n"
          ]
        }
      ]
    },
    {
      "cell_type": "code",
      "source": [
        "sum1 = arr1 + arr2\n",
        "print(sum1)\n",
        "print(sum1.shape)"
      ],
      "metadata": {
        "colab": {
          "base_uri": "https://localhost:8080/"
        },
        "id": "ldAacwutNwkb",
        "outputId": "7a070335-b6d4-4763-a368-af91b605dc3c"
      },
      "execution_count": null,
      "outputs": [
        {
          "output_type": "stream",
          "name": "stdout",
          "text": [
            "[[ 5  7  9]\n",
            " [ 8 10 12]]\n",
            "(2, 3)\n"
          ]
        }
      ]
    },
    {
      "cell_type": "code",
      "source": [
        "print(type(sum1))"
      ],
      "metadata": {
        "colab": {
          "base_uri": "https://localhost:8080/"
        },
        "id": "dNbT5kGUOAsc",
        "outputId": "83336371-e80e-420b-8e97-7308742e9790"
      },
      "execution_count": null,
      "outputs": [
        {
          "output_type": "stream",
          "name": "stdout",
          "text": [
            "<class 'numpy.ndarray'>\n"
          ]
        }
      ]
    },
    {
      "cell_type": "code",
      "source": [
        "print(sum1)"
      ],
      "metadata": {
        "colab": {
          "base_uri": "https://localhost:8080/"
        },
        "id": "sZuSoKRDQU2s",
        "outputId": "3dde539f-7770-4631-9494-02e684c94b83"
      },
      "execution_count": null,
      "outputs": [
        {
          "output_type": "stream",
          "name": "stdout",
          "text": [
            "[[ 5  7  9]\n",
            " [ 8 10 12]]\n"
          ]
        }
      ]
    },
    {
      "cell_type": "markdown",
      "source": [
        "A      (2d array):  5 x 4\n",
        "B      (1d array):      1\n",
        "Result (2d array):  5 x 4\n",
        "\n",
        "A      (2d array):  5 x 4\n",
        "B      (1d array):      4\n",
        "Result (2d array):  5 x 4\n",
        "\n",
        "A      (3d array):  15 x 3 x 5\n",
        "B      (3d array):  15 x 1 x 5\n",
        "Result (3d array):  15 x 3 x 5\n",
        "\n",
        "A      (3d array):  15 x 3 x 5\n",
        "B      (2d array):       3 x 5\n",
        "Result (3d array):  15 x 3 x 5\n",
        "\n",
        "A      (3d array):  15 x 3 x 5\n",
        "B      (2d array):       3 x 1\n",
        "Result (3d array):  15 x 3 x 5"
      ],
      "metadata": {
        "id": "8a3cVj8G1-zT"
      }
    },
    {
      "cell_type": "markdown",
      "source": [
        "For example, if you have a 256x256x3 array of RGB values, and you want to scale each color in the image by a different value, you can multiply the image by a one-dimensional array with 3 values. Lining up the sizes of the trailing axes of these arrays according to the broadcast rules, shows that they are compatible:\n",
        "\n",
        "Image  (3d array): 256 x 256 x 3\n",
        "Scale  (1d array):             3\n",
        "Result (3d array): 256 x 256 x 3"
      ],
      "metadata": {
        "id": "LlZQWu-32bcN"
      }
    },
    {
      "cell_type": "markdown",
      "source": [
        "## 4. Array Math and Universal Functions\n",
        "- A universal function (or ufunc for short) is a function that operates on ndarrays in an element-by-element fashion, supporting array broadcasting, type casting, and several other standard features.\n",
        "- That is, a ufunc is a “vectorized” wrapper for a function that takes a fixed number of specific inputs and produces a fixed number of specific outputs.\n",
        "\n",
        "-While we typically use for-loops if we want to perform arithmetic operations on sequence-like objects, NumPy provides vectorized wrappers for"
      ],
      "metadata": {
        "id": "O2nC-dMoOr_t"
      }
    },
    {
      "cell_type": "code",
      "source": [
        "lst = [[1, 2, 3],\n",
        "       [4, 5, 6]] # 2d array\n",
        "\n",
        "for row_idx, row_val in enumerate(lst):\n",
        "    for col_idx, col_val in enumerate(row_val):\n",
        "        lst[row_idx][col_idx] += 1\n",
        "lst"
      ],
      "metadata": {
        "colab": {
          "base_uri": "https://localhost:8080/"
        },
        "id": "xVzPl_K8Pkgv",
        "outputId": "982e6b2b-3c52-447b-9bf8-dcbe90305661"
      },
      "execution_count": null,
      "outputs": [
        {
          "output_type": "execute_result",
          "data": {
            "text/plain": [
              "[[2, 3, 4], [5, 6, 7]]"
            ]
          },
          "metadata": {},
          "execution_count": 244
        }
      ]
    },
    {
      "cell_type": "code",
      "source": [
        "# We can accomplish the same using NumPy’s ufunc for element-wise scalar addition as shown below:\n",
        "ary = np.array([[1, 2, 3], [4, 5, 6]])\n",
        "ary = np.add(ary, 1) # binary ufunc\n",
        "ary"
      ],
      "metadata": {
        "colab": {
          "base_uri": "https://localhost:8080/"
        },
        "id": "WuVOoGu-PvFC",
        "outputId": "b4889dfe-4306-460b-d724-3c5146a676af"
      },
      "execution_count": null,
      "outputs": [
        {
          "output_type": "execute_result",
          "data": {
            "text/plain": [
              "array([[2, 3, 4],\n",
              "       [5, 6, 7]])"
            ]
          },
          "metadata": {},
          "execution_count": 245
        }
      ]
    },
    {
      "cell_type": "code",
      "source": [
        "# The ufuncs for basic arithmetic operations are\n",
        "# 1) add 2)subtract 3)divide  4)multiply 5)power 6)exp (exponential).\n",
        "\n",
        "#  However, NumPy uses operator overloading so that we can use mathematical operators (+, -, /, *, and **) directly:\n",
        "ary + 1"
      ],
      "metadata": {
        "colab": {
          "base_uri": "https://localhost:8080/"
        },
        "id": "m5soE-k2P_r6",
        "outputId": "9e5b3e8d-dc6b-4c94-9a5d-912910566dd4"
      },
      "execution_count": null,
      "outputs": [
        {
          "output_type": "execute_result",
          "data": {
            "text/plain": [
              "array([[3, 4, 5],\n",
              "       [6, 7, 8]])"
            ]
          },
          "metadata": {},
          "execution_count": 150
        }
      ]
    },
    {
      "cell_type": "code",
      "source": [
        "np.power(ary,2)\n",
        "ary ** 2"
      ],
      "metadata": {
        "colab": {
          "base_uri": "https://localhost:8080/"
        },
        "id": "Ap0IhPpDQXhq",
        "outputId": "ec6cd3cf-c217-49df-9ab9-5af59da1bbfe"
      },
      "execution_count": null,
      "outputs": [
        {
          "output_type": "execute_result",
          "data": {
            "text/plain": [
              "array([[ 4,  9, 16],\n",
              "       [25, 36, 49]])"
            ]
          },
          "metadata": {},
          "execution_count": 246
        }
      ]
    },
    {
      "cell_type": "code",
      "source": [
        "# NumPy implements several useful unary ufuncs, such as log (natural logarithm), log10 (base-10 logarithm), and sqrt (square root)\n",
        "np.sqrt(ary)"
      ],
      "metadata": {
        "colab": {
          "base_uri": "https://localhost:8080/"
        },
        "id": "gSbe76bBVOc3",
        "outputId": "e8b3ff05-255b-442f-d821-13fe1e3ef561"
      },
      "execution_count": null,
      "outputs": [
        {
          "output_type": "execute_result",
          "data": {
            "text/plain": [
              "array([[1.41421356, 1.73205081, 2.        ],\n",
              "       [2.23606798, 2.44948974, 2.64575131]])"
            ]
          },
          "metadata": {},
          "execution_count": 247
        }
      ]
    },
    {
      "cell_type": "code",
      "source": [
        "#Often, we want to compute the sum or product of array element along a given axis.\n",
        "# For this purpose, we can use a ufunc’s reduce operation. By default, reduce applies an operation along the first axis (axis=0).\n",
        "\n",
        "ary = np.array([[1, 2, 3],\n",
        "                [4, 5, 6]]) # rolling over the 1st axis, axis 0\n",
        "\n",
        "np.add.reduce(ary, axis=1)\n",
        "\n",
        "# we also have dtype keyword in reduce,\n",
        "# The dtype keyword allows you to alter the data type over which the reduction takes place (and therefore the type of the output)."
      ],
      "metadata": {
        "colab": {
          "base_uri": "https://localhost:8080/"
        },
        "id": "HT-03fkvVsCr",
        "outputId": "b3a4810c-d179-48ef-9c09-66111f6772de"
      },
      "execution_count": null,
      "outputs": [
        {
          "output_type": "execute_result",
          "data": {
            "text/plain": [
              "array([ 6, 15])"
            ]
          },
          "metadata": {},
          "execution_count": 250
        }
      ]
    },
    {
      "cell_type": "markdown",
      "source": [
        "### Other useful unary ufuncs are:\n",
        "\n",
        "- np.mean (computes arithmetic mean or average)\n",
        "- np.std (computes the standard deviation)\n",
        "- np.var (computes variance)\n",
        "- np.sort (sorts an array)\n",
        "- np.argsort (returns indices that would sort an array)\n",
        "- np.min (returns the minimum value of an array)\n",
        "- np.max (returns the maximum value of an array)\n",
        "- np.argmin (returns the index of the minimum value)\n",
        "- np.argmax (returns the index of the maximum value)\n",
        "- np.array_equal (checks if two arrays have the same shape and elements)"
      ],
      "metadata": {
        "id": "rhsoyN9WXWgs"
      }
    },
    {
      "cell_type": "markdown",
      "source": [
        "## 5. Random number generators\n",
        "- In machine learning and deep learning, we often have to generate arrays of random numbers – for example, the initial values of our model parameters before optimization.\n",
        "- NumPy has a random subpackage to create random numbers and samples from a variety of distributions conveniently."
      ],
      "metadata": {
        "id": "Db5gm4UTtoWc"
      }
    },
    {
      "cell_type": "code",
      "source": [
        "# We will create a Generator instance with default_rng\n",
        "# rng = np.random.default_rng()\n",
        "\n",
        "# We can also pass seed for reproducibility\n",
        "rng = np.random.default_rng(seed=42)\n",
        "\n",
        "## call the various methods on it to obtain samples from different distributions.\n",
        "\n",
        "# Generate one random float uniformly distributed over the range [0, 1)\n",
        "# a = rng.random()\n",
        "# print(a)\n",
        "\n",
        "# num1 = rng.integers(low=0,high=5)\n",
        "# num2 = rng.integers(5)\n",
        "# print(num1)\n",
        "# print(num2)\n",
        "\n",
        "# b = rng.standard_normal(10)\n",
        "# print(b)\n",
        "\n",
        "# c = rng.standard_normal((2, 4))\n",
        "# print(c)\n",
        "# print(c.shape)\n",
        "\n",
        "d = rng.normal(loc=0.0, scale=1.0, size=(3,))\n",
        "# print(d)\n",
        "\n",
        "# print(help(rng))"
      ],
      "metadata": {
        "id": "cTQ5b6z5ff1A"
      },
      "execution_count": null,
      "outputs": []
    },
    {
      "cell_type": "markdown",
      "source": [
        "## 6. Linear Algebra"
      ],
      "metadata": {
        "id": "LQaQu1EKZ8RT"
      }
    },
    {
      "cell_type": "code",
      "source": [
        "a = np.arange(10)"
      ],
      "metadata": {
        "id": "AuAcNh6qKlvA"
      },
      "execution_count": null,
      "outputs": []
    },
    {
      "cell_type": "code",
      "source": [
        "a = a.reshape(-1, -1)"
      ],
      "metadata": {
        "colab": {
          "base_uri": "https://localhost:8080/",
          "height": 145
        },
        "id": "sEGC7iCqKqcu",
        "outputId": "7ebb41da-9a09-4378-808f-b3e2764be564"
      },
      "execution_count": null,
      "outputs": [
        {
          "output_type": "error",
          "ename": "ValueError",
          "evalue": "can only specify one unknown dimension",
          "traceback": [
            "\u001b[0;31m---------------------------------------------------------------------------\u001b[0m",
            "\u001b[0;31mValueError\u001b[0m                                Traceback (most recent call last)",
            "\u001b[0;32m/tmp/ipython-input-1984519692.py\u001b[0m in \u001b[0;36m<cell line: 0>\u001b[0;34m()\u001b[0m\n\u001b[0;32m----> 1\u001b[0;31m \u001b[0ma\u001b[0m \u001b[0;34m=\u001b[0m \u001b[0ma\u001b[0m\u001b[0;34m.\u001b[0m\u001b[0mreshape\u001b[0m\u001b[0;34m(\u001b[0m\u001b[0;34m-\u001b[0m\u001b[0;36m1\u001b[0m\u001b[0;34m,\u001b[0m \u001b[0;34m-\u001b[0m\u001b[0;36m1\u001b[0m\u001b[0;34m)\u001b[0m\u001b[0;34m\u001b[0m\u001b[0;34m\u001b[0m\u001b[0m\n\u001b[0m",
            "\u001b[0;31mValueError\u001b[0m: can only specify one unknown dimension"
          ]
        }
      ]
    },
    {
      "cell_type": "code",
      "source": [
        "print(a.shape)"
      ],
      "metadata": {
        "colab": {
          "base_uri": "https://localhost:8080/"
        },
        "id": "ioM_5egwK9WJ",
        "outputId": "8499f1ea-9c52-4929-99f7-66e94a3d5f68"
      },
      "execution_count": null,
      "outputs": [
        {
          "output_type": "stream",
          "name": "stdout",
          "text": [
            "(5, 2)\n"
          ]
        }
      ]
    },
    {
      "cell_type": "code",
      "source": [
        "print(a)"
      ],
      "metadata": {
        "colab": {
          "base_uri": "https://localhost:8080/"
        },
        "id": "HYDMgLPyKnbN",
        "outputId": "07180798-484a-4b87-d2b4-3280d9c9acff"
      },
      "execution_count": null,
      "outputs": [
        {
          "output_type": "stream",
          "name": "stdout",
          "text": [
            "[0 1 2 3 4 5 6 7 8 9]\n"
          ]
        }
      ]
    },
    {
      "cell_type": "code",
      "source": [
        "masked = np.where(a>2, False, True)"
      ],
      "metadata": {
        "id": "82obIOehLVKK"
      },
      "execution_count": null,
      "outputs": []
    },
    {
      "cell_type": "code",
      "source": [
        "print(masked)"
      ],
      "metadata": {
        "colab": {
          "base_uri": "https://localhost:8080/"
        },
        "id": "Ho9V6m8MLcOB",
        "outputId": "f0faff34-980d-4b78-94f2-60c8a899dfbe"
      },
      "execution_count": null,
      "outputs": [
        {
          "output_type": "stream",
          "name": "stdout",
          "text": [
            "[ True  True  True False False False False False False False]\n"
          ]
        }
      ]
    },
    {
      "cell_type": "code",
      "source": [
        "x = np.arange(10)\n",
        "x[masked]"
      ],
      "metadata": {
        "colab": {
          "base_uri": "https://localhost:8080/"
        },
        "id": "4HsY0T6MLebz",
        "outputId": "2f655039-88d3-4622-b59f-e15f91a218e4"
      },
      "execution_count": null,
      "outputs": [
        {
          "output_type": "execute_result",
          "data": {
            "text/plain": [
              "array([0, 1, 2])"
            ]
          },
          "metadata": {},
          "execution_count": 281
        }
      ]
    },
    {
      "cell_type": "code",
      "source": [
        "# Matrix multiplication\n",
        "a = np.arange(10)\n",
        "\n",
        "\n",
        "b = np.arange(10).reshape(2, -1)\n",
        "print(a)\n",
        "print(b)\n",
        "# print(a@b)\n",
        "# print(np.matmul(a,b))\n",
        "# print(np.dot(a,b))\n",
        "\n",
        "# Singular Value Decomposition\n",
        "c = np.arange(9).reshape(3,3)\n",
        "c = np.linalg.svd(a)\n",
        "print(c)\n",
        "\n",
        "# # To compute eigenvalues and eigenvectors of a square array\n",
        "# d = np.linalg.eig(np.array(range(9)).reshape(3,3))\n",
        "# print(d)\n",
        "\n",
        "# # For general matrix\n",
        "# e = np.linalg.eigvals(np.array(range(9)).reshape(3,3))\n",
        "# print(e)\n",
        "\n",
        "# # Inverse of a matrix\n",
        "# f = np.array([[1, 2], [3, 4]])\n",
        "# invf = np.linalg.inv(f)\n",
        "# print(invf)"
      ],
      "metadata": {
        "colab": {
          "base_uri": "https://localhost:8080/"
        },
        "id": "aTP6eaG1v93W",
        "outputId": "24bfafa4-654a-4d25-dcfb-93f820985767"
      },
      "execution_count": null,
      "outputs": [
        {
          "output_type": "stream",
          "name": "stdout",
          "text": [
            "[[0 1]\n",
            " [2 3]\n",
            " [4 5]\n",
            " [6 7]\n",
            " [8 9]]\n",
            "[[0 1 2 3 4]\n",
            " [5 6 7 8 9]]\n",
            "SVDResult(U=array([[-0.04514198, -0.77328016, -0.3545375 , -0.36504752, -0.37555754],\n",
            "       [-0.21235854, -0.50488004, -0.04008557,  0.35761581,  0.7553172 ],\n",
            "       [-0.37957509, -0.23647992,  0.87009952, -0.14090063, -0.15190078],\n",
            "       [-0.54679164,  0.0319202 , -0.20179231,  0.6691439 , -0.45991989],\n",
            "       [-0.7140082 ,  0.30032032, -0.27368413, -0.52081157,  0.232061  ]]), S=array([16.86109454,  0.83874363]), Vh=array([[-0.64858381, -0.76114325],\n",
            "       [ 0.76114325, -0.64858381]]))\n"
          ]
        }
      ]
    },
    {
      "cell_type": "code",
      "source": [],
      "metadata": {
        "id": "ZUgQPbHha0qr"
      },
      "execution_count": null,
      "outputs": []
    }
  ]
}
